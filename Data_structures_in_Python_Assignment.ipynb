{
 "cells": [
  {
   "cell_type": "markdown",
   "metadata": {},
   "source": [
    "# Data_Structures_in_Python_Assignment"
   ]
  },
  {
   "cell_type": "code",
   "execution_count": 3,
   "metadata": {},
   "outputs": [
    {
     "name": "stdout",
     "output_type": "stream",
     "text": [
      "!dlroW ,olleH\n"
     ]
    }
   ],
   "source": [
    "# Write a code to reverse a string.\n",
    "string = \"Hello, World!\"\n",
    "reversed_string = reverse_string_slicing(string)\n",
    "print(reversed_string) \n"
   ]
  },
  {
   "cell_type": "code",
   "execution_count": 7,
   "metadata": {},
   "outputs": [
    {
     "name": "stdout",
     "output_type": "stream",
     "text": [
      "Number of vowels: 3\n"
     ]
    }
   ],
   "source": [
    "# Write a code to count the number of vowels in a string.\n",
    "def count_vowels(string):\n",
    "    return len([char for char in string if char in \"aeiouAEIOU\"])\n",
    "\n",
    "string = \"Hello, World!\"\n",
    "print(\"Number of vowels:\", count_vowels(string))"
   ]
  },
  {
   "cell_type": "code",
   "execution_count": 11,
   "metadata": {},
   "outputs": [
    {
     "name": "stdout",
     "output_type": "stream",
     "text": [
      "True\n",
      "False\n",
      "True\n"
     ]
    }
   ],
   "source": [
    "# Write a code to check if a given string is a palindrome or not.\n",
    "def is_palindrome(s):\n",
    " return s == s[::-1]\n",
    "\n",
    "s = \"radar\"\n",
    "print(is_palindrome(s))\n",
    "s = \"hello\"\n",
    "print(is_palindrome(s))\n",
    "s = \"madam\"\n",
    "print(is_palindrome(s))"
   ]
  },
  {
   "cell_type": "code",
   "execution_count": 17,
   "metadata": {},
   "outputs": [
    {
     "name": "stdout",
     "output_type": "stream",
     "text": [
      "True\n"
     ]
    }
   ],
   "source": [
    "# Write a code to check if two given strings are anagrams of each other.\n",
    "def check_anagram(s1, s2):\n",
    "    s1 = s1.lower()\n",
    "    s2 = s2.lower()\n",
    "\n",
    "    if sorted(s1) == sorted(s2):\n",
    "        return True\n",
    "    else:\n",
    "        return False\n",
    "\n",
    "s1 = \"listen\"\n",
    "s2 = \"silent\"\n",
    "print(check_anagram(s1, s2)) "
   ]
  },
  {
   "cell_type": "code",
   "execution_count": 18,
   "metadata": {},
   "outputs": [
    {
     "name": "stdout",
     "output_type": "stream",
     "text": [
      "Occurrences of substring: [10, 23, 39]\n"
     ]
    }
   ],
   "source": [
    "# Write a code to find all occurrences of a given substring within another string.\n",
    "\n",
    "def find_all_occurrences(string, substring):\n",
    "    occurrences = []\n",
    "    start = 0\n",
    "    while True:\n",
    "        start = string.find(substring, start)\n",
    "        if start == -1:\n",
    "            break\n",
    "        occurrences.append(start)\n",
    "        start += 1  \n",
    "    return occurrences\n",
    "\n",
    "main_string = \"This is a test string. Testing is fun. Test it again.\"\n",
    "substring = \"test\"\n",
    "result = find_all_occurrences(main_string.lower(), substring.lower())\n",
    "print(\"Occurrences of substring:\", result)\n"
   ]
  },
  {
   "cell_type": "code",
   "execution_count": 21,
   "metadata": {},
   "outputs": [
    {
     "name": "stdout",
     "output_type": "stream",
     "text": [
      "Compressed String: v2i3v3e3k4\n"
     ]
    }
   ],
   "source": [
    "# Write a code to perform basic string compression using the counts of repeated characters.\n",
    "def compress_string(s):\n",
    "    # Initialize variables\n",
    "    compressed = []\n",
    "    count = 1\n",
    "\n",
    "    # Iterate through the string\n",
    "    for i in range(1, len(s)):\n",
    "        if s[i] == s[i - 1]:\n",
    "            count += 1  # Increment count for repeated characters\n",
    "        else:\n",
    "            compressed.append(s[i - 1] + str(count))  # Append character and count\n",
    "            count = 1  # Reset count for the next character\n",
    "\n",
    "    # Append the last character and its count\n",
    "    compressed.append(s[-1] + str(count))\n",
    "\n",
    "    # Join the compressed parts and compare with the original string\n",
    "    compressed_string = ''.join(compressed)\n",
    "    return compressed_string if len(compressed_string) < len(s) else s\n",
    "\n",
    "# Example usage\n",
    "input_string = \"vviiivvveeekkkk\"\n",
    "result = compress_string(input_string)\n",
    "print(\"Compressed String:\", result)\n"
   ]
  },
  {
   "cell_type": "code",
   "execution_count": 22,
   "metadata": {},
   "outputs": [
    {
     "name": "stdout",
     "output_type": "stream",
     "text": [
      "False\n",
      "True\n"
     ]
    }
   ],
   "source": [
    "# Write a code to determine if a string has all unique characters.\n",
    "def has_unique_chars(s):\n",
    "    return len(s) == len(set(s))\n",
    "\n",
    "print(has_unique_chars(\"hello\"))\n",
    "print(has_unique_chars(\"world\"))  \n"
   ]
  },
  {
   "cell_type": "code",
   "execution_count": 24,
   "metadata": {},
   "outputs": [
    {
     "name": "stdout",
     "output_type": "stream",
     "text": [
      "HELLO, BHARTI!\n",
      "hello, vivek!\n"
     ]
    }
   ],
   "source": [
    "# Write a code to convert a given string to uppercase or lowercase.\n",
    "\n",
    "my_string = \"Hello, Bharti!\"\n",
    "uppercase_string = my_string.upper()\n",
    "print(uppercase_string)\n",
    "\n",
    "my_string = \"Hello, Vivek!\"\n",
    "lowercase_string = my_string.lower()\n",
    "print(lowercase_string)"
   ]
  },
  {
   "cell_type": "code",
   "execution_count": 25,
   "metadata": {},
   "outputs": [
    {
     "name": "stdout",
     "output_type": "stream",
     "text": [
      "13\n"
     ]
    }
   ],
   "source": [
    "# Write a code to count the number of words in a string.\n",
    "text = \"Welcome to Data Analytics Course! Here you will learn Python, Sql, Excel, Power-BI,Tableau,Aws.\"\n",
    "word_count = len(text.split())\n",
    "print(word_count)"
   ]
  },
  {
   "cell_type": "code",
   "execution_count": 28,
   "metadata": {},
   "outputs": [
    {
     "name": "stdout",
     "output_type": "stream",
     "text": [
      "HelloBharti\n"
     ]
    }
   ],
   "source": [
    "#  Write a code to concatenate two strings without using the + operator.\n",
    "def concatenate_strings(str1, str2):\n",
    "    result = ''.join([str1, str2])\n",
    "    return result\n",
    "\n",
    "string1 = \"Hello\"\n",
    "string2 = \"Bharti\"\n",
    "concatenated = concatenate_strings(string1, string2)\n",
    "print(concatenated)\n"
   ]
  },
  {
   "cell_type": "code",
   "execution_count": 29,
   "metadata": {},
   "outputs": [
    {
     "name": "stdout",
     "output_type": "stream",
     "text": [
      "[1, 3, 4, 5]\n"
     ]
    }
   ],
   "source": [
    "# Write a code to remove all occurrences of a specific element from a list.\n",
    "my_list = [1, 2, 3, 4, 2, 5, 2]\n",
    "element_to_remove = 2\n",
    "\n",
    "while element_to_remove in my_list:\n",
    "    my_list.remove(element_to_remove)\n",
    "\n",
    "print(my_list) \n"
   ]
  },
  {
   "cell_type": "code",
   "execution_count": 30,
   "metadata": {},
   "outputs": [
    {
     "name": "stdout",
     "output_type": "stream",
     "text": [
      "50\n"
     ]
    }
   ],
   "source": [
    "#  Implement a code to find the second largest number in a given list of integers.\n",
    "def second_largest(nums):\n",
    "    if len(nums) < 2:\n",
    "        return None  \n",
    "    nums = list(set(nums))  \n",
    "    nums.sort(reverse=True)  \n",
    "    return nums[1] if len(nums) > 1 else None\n",
    "\n",
    "# Example usage\n",
    "numbers = [10, 20, 4, 45, 99, 50]\n",
    "print(second_largest(numbers)) \n"
   ]
  },
  {
   "cell_type": "code",
   "execution_count": 32,
   "metadata": {},
   "outputs": [
    {
     "name": "stdout",
     "output_type": "stream",
     "text": [
      "{1: 1, 2: 2, 3: 3, 4: 4}\n",
      "{1: 1, 2: 2, 3: 3, 4: 4}\n"
     ]
    }
   ],
   "source": [
    "# Create a code to count the occurrences of each element in a list and return a dictionary with elements as\n",
    "# keys and their counts as values.\n",
    "def count_occurrences(lst):\n",
    "    counts = {}\n",
    "    for element in lst:\n",
    "        counts[element] = counts.get(element, 0) + 1\n",
    "    return counts\n",
    "\n",
    "example_list = [1, 2, 2, 3, 3, 3, 4, 4, 4, 4]\n",
    "result = count_occurrences(example_list)\n",
    "print(result)\n",
    "\n",
    "# using defaultdict\n",
    "from collections import defaultdict\n",
    "\n",
    "def count_occurrences(lst):\n",
    "    counts = defaultdict(int)\n",
    "    for element in lst:\n",
    "        counts[element] += 1\n",
    "    return dict(counts)\n",
    "\n",
    "example_list = [1, 2, 2, 3, 3, 3, 4, 4, 4, 4]\n",
    "result = count_occurrences(example_list)\n",
    "print(result)\n"
   ]
  },
  {
   "cell_type": "code",
   "execution_count": 33,
   "metadata": {},
   "outputs": [
    {
     "name": "stdout",
     "output_type": "stream",
     "text": [
      "Original List: [1, 2, 2, 3, 4, 3, 5, 1]\n",
      "List without duplicates: [1, 2, 3, 4, 5]\n"
     ]
    }
   ],
   "source": [
    "# Implement a code to find and remove duplicates from a list while preserving the original order of\n",
    "# elements\n",
    "def remove_duplicates_preserve_order(input_list):\n",
    "    seen = set()\n",
    "    result = []\n",
    "    for item in input_list:\n",
    "        if item not in seen:\n",
    "            seen.add(item)\n",
    "            result.append(item)\n",
    "    return result\n",
    "\n",
    "original_list = [1, 2, 2, 3, 4, 3, 5, 1]\n",
    "unique_list = remove_duplicates_preserve_order(original_list)\n",
    "print(\"Original List:\", original_list)\n",
    "print(\"List without duplicates:\", unique_list)\n"
   ]
  },
  {
   "cell_type": "code",
   "execution_count": 34,
   "metadata": {},
   "outputs": [
    {
     "name": "stdout",
     "output_type": "stream",
     "text": [
      "The list is sorted in descending order.\n"
     ]
    }
   ],
   "source": [
    "# Create a code to check if a given list is sorted (either in ascending or descending order) or not.\n",
    "def is_sorted(lst):\n",
    "    if lst == sorted(lst):\n",
    "        return \"The list is sorted in ascending order.\"\n",
    "    elif lst == sorted(lst, reverse=True):\n",
    "        return \"The list is sorted in descending order.\"\n",
    "    else:\n",
    "        return \"The list is not sorted.\"\n",
    "example_list = [55, 45, 35, 25, 15]\n",
    "result = is_sorted(example_list)\n",
    "print(result)\n"
   ]
  },
  {
   "cell_type": "code",
   "execution_count": 40,
   "metadata": {},
   "outputs": [
    {
     "name": "stdout",
     "output_type": "stream",
     "text": [
      "[1, 'one', 2, 'two', 3, 'three', 4, 'four']\n"
     ]
    }
   ],
   "source": [
    "# Write a code to merge two sorted lists into a single sorted list.\n",
    "list1 = [3, 2, 4, 1]\n",
    "list2 = ['three', 'two', 'four', 'one']\n",
    "\n",
    "# Zip and sort by the numeric value\n",
    "merged = sorted(zip(list1, list2), key=lambda x: x[0])\n",
    "\n",
    "#print(merged)\n",
    "flattened = [item for pair in merged for item in pair]\n",
    "print(flattened)\n",
    "\n"
   ]
  },
  {
   "cell_type": "code",
   "execution_count": 41,
   "metadata": {},
   "outputs": [
    {
     "name": "stdout",
     "output_type": "stream",
     "text": [
      "[2, 4, 6, 16]\n"
     ]
    }
   ],
   "source": [
    "# Implement a code to find the intersection of two given lists.\n",
    "list1 = [1, 2, 3, 4, 5, 6, 16]\n",
    "list2 = [2, 4, 6, 8, 10, 12, 14, 16]\n",
    "\n",
    "intersection = [item for item in list1 if item in list2]\n",
    "\n",
    "print(intersection)\n"
   ]
  },
  {
   "cell_type": "code",
   "execution_count": 43,
   "metadata": {},
   "outputs": [
    {
     "name": "stdout",
     "output_type": "stream",
     "text": [
      "[32, 2, 12, 14, 15, 16, 48, 47, 20, 52, 54, 23, 26]\n"
     ]
    }
   ],
   "source": [
    "# Create a code to find the union of two lists without duplicates.\n",
    "def union(lst1, lst2):\n",
    "    return list(set(lst1) | set(lst2))\n",
    "\n",
    "lst1 = [23, 15, 2, 14, 14, 16, 20, 52]\n",
    "lst2 = [2, 48, 15, 12, 26, 32, 47, 54]\n",
    "print(union(lst1, lst2))"
   ]
  },
  {
   "cell_type": "code",
   "execution_count": 44,
   "metadata": {},
   "outputs": [
    {
     "name": "stdout",
     "output_type": "stream",
     "text": [
      "Shuffled list: [3, 5, 1, 2, 4]\n"
     ]
    }
   ],
   "source": [
    "# Write a code to shuffle a given list randomly without using any built-in shuffle functions.\n",
    "import random\n",
    "\n",
    "def custom_shuffle(lst):\n",
    "    n = len(lst)\n",
    "    for i in range(n - 1, 0, -1):\n",
    "      \n",
    "        j = random.randint(0, i)\n",
    "      \n",
    "        lst[i], lst[j] = lst[j], lst[i]\n",
    "\n",
    "my_list = [1, 2, 3, 4, 5]\n",
    "custom_shuffle(my_list)\n",
    "print(\"Shuffled list:\", my_list)\n"
   ]
  },
  {
   "cell_type": "code",
   "execution_count": 46,
   "metadata": {},
   "outputs": [
    {
     "name": "stdout",
     "output_type": "stream",
     "text": [
      "Common elements: (4, 5, 6)\n"
     ]
    }
   ],
   "source": [
    "# Write a code that takes two tuples as input and returns a new tuple containing elements that are\n",
    "# common to both input tuples.\n",
    "def common_elements(tuple1, tuple2):\n",
    "   \n",
    "    common = tuple(set(tuple1) & set(tuple2))\n",
    "    return common\n",
    "tuple1 = (1, 2, 3, 4, 5, 6)\n",
    "tuple2 = (4, 5, 6, 7, 8, 9)\n",
    "result = common_elements(tuple1, tuple2)\n",
    "print(\"Common elements:\", result)\n"
   ]
  },
  {
   "cell_type": "code",
   "execution_count": 47,
   "metadata": {},
   "outputs": [
    {
     "name": "stdout",
     "output_type": "stream",
     "text": [
      "Enter the first set of integers, separated by commas: 1,2,3,4\n",
      "Enter the second set of integers, separated by commas: 3,4,5,6\n",
      "The intersection of the two sets is: {3, 4}\n"
     ]
    }
   ],
   "source": [
    "# Create a code that prompts the user to enter two sets of integers separated by commas. Then, print the\n",
    "# intersection of these two sets\n",
    "\n",
    "set1_input = input(\"Enter the first set of integers, separated by commas: \")\n",
    "\n",
    "set1 = set(map(int, set1_input.split(',')))\n",
    "\n",
    "\n",
    "set2_input = input(\"Enter the second set of integers, separated by commas: \")\n",
    "\n",
    "set2 = set(map(int, set2_input.split(',')))\n",
    "\n",
    "intersection = set1 & set2\n",
    "\n",
    "print(\"The intersection of the two sets is:\", intersection)\n"
   ]
  },
  {
   "cell_type": "code",
   "execution_count": 49,
   "metadata": {},
   "outputs": [
    {
     "name": "stdout",
     "output_type": "stream",
     "text": [
      "(1, 2, 3, 4, 5, 6)\n"
     ]
    }
   ],
   "source": [
    "# Write a code to concatenate two tuples. The function should take two tuples as input and return a new\n",
    "# tuple containing elements from both input tuples.\n",
    "def concatenate_tuples(tuple1, tuple2):\n",
    "    return tuple1 + tuple2\n",
    "\n",
    "tuple_a = (1, 2, 3)\n",
    "tuple_b = (4, 5, 6)\n",
    "result = concatenate_tuples(tuple_a, tuple_b)\n",
    "print(result)  \n"
   ]
  },
  {
   "cell_type": "code",
   "execution_count": 3,
   "metadata": {},
   "outputs": [
    {
     "name": "stdout",
     "output_type": "stream",
     "text": [
      "Enter elements of the first set (separated by spaces): Delhi Pune Indore\n",
      "Enter elements of the second set (separated by spaces): Chennai Pune Baroda\n",
      "Elements in the first set but not in the second set:\n",
      "{'Indore', 'Delhi'}\n"
     ]
    }
   ],
   "source": [
    "# Develop a code that prompts the user to input two sets of strings. Then, print the elements that are\n",
    "# present in the first set but not in the second set.\n",
    "\n",
    "input1 = input(\"Enter elements of the first set (separated by spaces): \")\n",
    "set1 = set(input1.split())\n",
    "\n",
    "input2 = input(\"Enter elements of the second set (separated by spaces): \")\n",
    "set2 = set(input2.split())\n",
    "\n",
    "difference = set1 - set2\n",
    "\n",
    "\n",
    "print(\"Elements in the first set but not in the second set:\")\n",
    "print(difference)\n"
   ]
  },
  {
   "cell_type": "code",
   "execution_count": 4,
   "metadata": {},
   "outputs": [
    {
     "name": "stdout",
     "output_type": "stream",
     "text": [
      "(20, 30, 40)\n"
     ]
    }
   ],
   "source": [
    "#  Create a code that takes a tuple and two integers as input. The function should return a new tuple\n",
    "# containing elements from the original tuple within the specified range of indices.\n",
    "def slice_tuple(original_tuple, start_index, end_index):\n",
    "    \n",
    "    if not isinstance(original_tuple, tuple):\n",
    "        raise TypeError(\"The first argument must be a tuple.\")\n",
    "    if not (isinstance(start_index, int) and isinstance(end_index, int)):\n",
    "        raise TypeError(\"Start and end indices must be integers.\")\n",
    "    \n",
    "    return original_tuple[start_index:end_index]\n",
    "\n",
    "original = (10, 20, 30, 40, 50, 60)\n",
    "start = 1\n",
    "end = 4\n",
    "result = slice_tuple(original, start, end)\n",
    "print(result)  \n"
   ]
  },
  {
   "cell_type": "code",
   "execution_count": 7,
   "metadata": {},
   "outputs": [
    {
     "name": "stdout",
     "output_type": "stream",
     "text": [
      "Enter characters for the first setPW Data\n",
      "Enter characters for the second setAnalytics\n",
      "Union of the two sets:\n",
      "{'D', 'c', 'a', 'l', 'y', 't', ' ', 'W', 'n', 'i', 'A', 'P', 's'}\n"
     ]
    }
   ],
   "source": [
    "# Write a code that prompts the user to input two sets of characters. Then, print the union of these two sets.\n",
    "\n",
    "input1 = input(\"Enter characters for the first set\")\n",
    "set1 = set(input1)\n",
    "\n",
    "\n",
    "input2 = input(\"Enter characters for the second set\")\n",
    "set2 = set(input2)\n",
    "\n",
    "union_set = set1 | set2  # or use set1.union(set2)\n",
    "\n",
    "print(\"Union of the two sets:\")\n",
    "print(union_set)\n",
    "\n",
    "\n"
   ]
  },
  {
   "cell_type": "code",
   "execution_count": 9,
   "metadata": {},
   "outputs": [
    {
     "name": "stdout",
     "output_type": "stream",
     "text": [
      "Enter integers separated by spaces: 8 9 12 21 15 10\n",
      "Minimum: 8\n",
      "Maximum: 21\n"
     ]
    }
   ],
   "source": [
    "# Develop a code that takes a tuple of integers as input. The function should return the maximum and\n",
    "# minimum values from the tuple using tuple unpacking.\n",
    "def find_min_max(numbers):\n",
    "\n",
    "    *rest, = numbers \n",
    "    min_val = min(rest)\n",
    "    max_val = max(rest)\n",
    "    return min_val, max_val\n",
    "\n",
    "input_str = input(\"Enter integers separated by spaces: \")\n",
    "input_tuple = tuple(map(int, input_str.split()))\n",
    "\n",
    "minimum, maximum = find_min_max(input_tuple)\n",
    "\n",
    "print(\"Minimum:\", minimum)\n",
    "print(\"Maximum:\", maximum)\n"
   ]
  },
  {
   "cell_type": "code",
   "execution_count": 10,
   "metadata": {},
   "outputs": [
    {
     "name": "stdout",
     "output_type": "stream",
     "text": [
      "Set 1: {1, 2, 3, 4, 5}\n",
      "Set 2: {4, 5, 6, 7, 8}\n",
      "Union: {1, 2, 3, 4, 5, 6, 7, 8}\n",
      "Intersection: {4, 5}\n",
      "Difference (Set1 - Set2): {1, 2, 3}\n"
     ]
    }
   ],
   "source": [
    "# Create a code that defines two sets of integers. Then, print the union, intersection, and difference of these\n",
    "# two sets.\n",
    "\n",
    "set1 = {1, 2, 3, 4, 5}\n",
    "set2 = {4, 5, 6, 7, 8}\n",
    "\n",
    "union_set = set1.union(set2)\n",
    "intersection_set = set1.intersection(set2)\n",
    "difference_set = set1.difference(set2)\n",
    "\n",
    "print(\"Set 1:\", set1)\n",
    "print(\"Set 2:\", set2)\n",
    "print(\"Union:\", union_set)\n",
    "print(\"Intersection:\", intersection_set)\n",
    "print(\"Difference (Set1 - Set2):\", difference_set)\n",
    "\n"
   ]
  },
  {
   "cell_type": "code",
   "execution_count": 14,
   "metadata": {},
   "outputs": [
    {
     "name": "stdout",
     "output_type": "stream",
     "text": [
      "The element 9 occurs 3 times in the tuple.\n"
     ]
    }
   ],
   "source": [
    "# Write a code that takes a tuple and an element as input. The function should return the count of\n",
    "# occurrences of the given element in the tuple.\n",
    "def count_occurrences(input_tuple, element):\n",
    " \n",
    "    return input_tuple.count(element)\n",
    "my_tuple = (1, 2, 3, 2, 4, 9, 9, 5, 6, 9,)\n",
    "element_to_count = 9\n",
    "result = count_occurrences(my_tuple, element_to_count)\n",
    "print(f\"The element {element_to_count} occurs {result} times in the tuple.\")\n"
   ]
  },
  {
   "cell_type": "code",
   "execution_count": 18,
   "metadata": {},
   "outputs": [
    {
     "name": "stdout",
     "output_type": "stream",
     "text": [
      "Enter the first set of strings (comma-separated): apple, banana, kiwi, Orange\n",
      "Enter the second set of strings (comma-separated): guava, banana, beat, mango\n",
      "The symmetric difference of the two sets is: {' mango', 'apple', ' kiwi', ' beat', ' Orange', 'guava'}\n"
     ]
    }
   ],
   "source": [
    "# Develop a code that prompts the user to input two sets of strings. Then, print the symmetric difference of\n",
    "# these two sets.\n",
    "\n",
    "set1 = set(input(\"Enter the first set of strings (comma-separated): \").split(\",\"))\n",
    "set2 = set(input(\"Enter the second set of strings (comma-separated): \").split(\",\"))\n",
    "\n",
    "symmetric_difference = set1.symmetric_difference(set2)\n",
    "\n",
    "print(\"The symmetric difference of the two sets is:\", symmetric_difference)\n",
    "\n",
    "\n"
   ]
  },
  {
   "cell_type": "code",
   "execution_count": 19,
   "metadata": {},
   "outputs": [
    {
     "name": "stdout",
     "output_type": "stream",
     "text": [
      "{'apple': 3, 'banana': 2, 'orange': 1, 'Kiwi': 2, 'mango': 1, 'grapes': 1}\n"
     ]
    }
   ],
   "source": [
    "# Write a code that takes a list of words as input and returns a dictionary where the keys are unique words\n",
    "# and the values are the frequencies of those words in the input list.\n",
    "\n",
    "def word_frequencies(word_list):\n",
    "    frequency_dict = {}\n",
    "    for word in word_list:\n",
    "        frequency_dict[word] = frequency_dict.get(word, 0) + 1\n",
    "    return frequency_dict\n",
    "\n",
    "\n",
    "words = [\"apple\", \"banana\", \"apple\", \"orange\", \"banana\", \"apple\", \"Kiwi\", \"mango\", \"Kiwi\", \"grapes\"]\n",
    "result = word_frequencies(words)\n",
    "print(result)\n"
   ]
  },
  {
   "cell_type": "code",
   "execution_count": 21,
   "metadata": {},
   "outputs": [
    {
     "name": "stdout",
     "output_type": "stream",
     "text": [
      "{'a': 10, 'b': 40, 'c': 65, 'd': 60}\n"
     ]
    }
   ],
   "source": [
    "# Write a code that takes two dictionaries as input and merges them into a single dictionary. If there are\n",
    "# common keys, the values should be added together.\n",
    "def merge_dictionaries(dict1, dict2):\n",
    "    merged_dict = dict1.copy()\n",
    "    \n",
    "    for key, value in dict2.items():\n",
    "        if key in merged_dict:\n",
    "          \n",
    "            merged_dict[key] += value\n",
    "        else:\n",
    "           \n",
    "            merged_dict[key] = value\n",
    "    \n",
    "    return merged_dict\n",
    "\n",
    "dict1 = {'a': 10, 'b': 25, 'c': 40}\n",
    "dict2 = {'b': 15, 'c': 25, 'd': 60}\n",
    "\n",
    "result = merge_dictionaries(dict1, dict2)\n",
    "print(result)\n"
   ]
  },
  {
   "cell_type": "code",
   "execution_count": 23,
   "metadata": {},
   "outputs": [
    {
     "name": "stdout",
     "output_type": "stream",
     "text": [
      "value\n",
      "None\n"
     ]
    }
   ],
   "source": [
    "\"\"\"\" Write a code to access a value in a nested dictionary. The function should take the dictionary and a list of\n",
    "keys as input, and return the corresponding value. If any of the keys do not exist in the dictionary, the\n",
    "function should return None.\"\"\"\n",
    "def get_nested_value(nested_dict, keys):\n",
    "    current = nested_dict\n",
    "    for key in keys:\n",
    "        if isinstance(current, dict) and key in current:\n",
    "            current = current[key]\n",
    "        else:\n",
    "            return None\n",
    "    return current\n",
    "data = {\n",
    "    'a': {\n",
    "        'b': {\n",
    "            'c': 'value'\n",
    "        }\n",
    "    }\n",
    "}\n",
    "\n",
    "print(get_nested_value(data, ['a', 'b', 'c']))  # Output: 'value'\n",
    "\n",
    "print(get_nested_value(data, ['a', 'x', 'c']))  # Output: None\n"
   ]
  },
  {
   "cell_type": "code",
   "execution_count": 25,
   "metadata": {},
   "outputs": [
    {
     "name": "stdout",
     "output_type": "stream",
     "text": [
      "Ascending: {'Banana': 1, 'Orange': 2, 'Apple': 3, 'Watermelon': 4}\n",
      "Descending: {'Watermelon': 4, 'Apple': 3, 'Orange': 2, 'Banana': 1}\n"
     ]
    }
   ],
   "source": [
    "# Write a code that takes a dictionary as input and returns a sorted version of it based on the values. You\n",
    "# can choose whether to sort in ascending or descending order.\n",
    "\n",
    "def sort_dict_by_values(input_dict, descending=False):\n",
    "    # Sort the dictionary by values and return a new dictionary\n",
    "    return dict(sorted(input_dict.items(), key=lambda item: item[1], reverse=descending))\n",
    "data = {\n",
    "    'Apple': 3,\n",
    "    'Banana': 1,\n",
    "    'Orange': 2,\n",
    "    'Watermelon': 4\n",
    "}\n",
    "# Sort in ascending order\n",
    "print(\"Ascending:\", sort_dict_by_values(data))\n",
    "\n",
    "# Sort in descending order\n",
    "print(\"Descending:\", sort_dict_by_values(data, descending=True))\n"
   ]
  },
  {
   "cell_type": "code",
   "execution_count": 27,
   "metadata": {},
   "outputs": [
    {
     "name": "stdout",
     "output_type": "stream",
     "text": [
      "{1: ['a', 'c'], 2: ['b', 'e'], 3: ['d']}\n"
     ]
    }
   ],
   "source": [
    "\"\"\" Write a code that inverts a dictionary, swapping keys and values. Ensure that the inverted dictionary\n",
    "correctly handles cases where multiple keys have the same value by storing the keys as a list in the\n",
    "inverted dictionary \"\"\"\n",
    "\n",
    "def invert_dictionary(original_dict):\n",
    "    inverted = {}\n",
    "    for key, value in original_dict.items():\n",
    "        if value in inverted:\n",
    "            inverted[value].append(key)\n",
    "        else:\n",
    "            inverted[value] = [key]\n",
    "    return inverted\n",
    "data = {\n",
    "    'a': 1,\n",
    "    'b': 2,\n",
    "    'c': 1,\n",
    "    'd': 3,\n",
    "    'e': 2\n",
    "}\n",
    "\n",
    "inverted = invert_dictionary(data)\n",
    "print(inverted)\n"
   ]
  },
  {
   "cell_type": "code",
   "execution_count": null,
   "metadata": {},
   "outputs": [],
   "source": []
  }
 ],
 "metadata": {
  "kernelspec": {
   "display_name": "Python 3",
   "language": "python",
   "name": "python3"
  },
  "language_info": {
   "codemirror_mode": {
    "name": "ipython",
    "version": 3
   },
   "file_extension": ".py",
   "mimetype": "text/x-python",
   "name": "python",
   "nbconvert_exporter": "python",
   "pygments_lexer": "ipython3",
   "version": "3.8.5"
  }
 },
 "nbformat": 4,
 "nbformat_minor": 4
}
